{
  "nbformat": 4,
  "nbformat_minor": 0,
  "metadata": {
    "colab": {
      "provenance": []
    },
    "kernelspec": {
      "name": "python3",
      "display_name": "Python 3"
    },
    "language_info": {
      "name": "python"
    }
  },
  "cells": [
    {
      "cell_type": "markdown",
      "source": [
        "based on https://pureai.substack.com/p/recommender-systems-with-pytorch"
      ],
      "metadata": {
        "id": "NFF1U9szz4B0"
      }
    },
    {
      "cell_type": "code",
      "execution_count": null,
      "metadata": {
        "id": "gVOFrPXuPS-X"
      },
      "outputs": [],
      "source": [
        "import sys\n",
        "import torch\n",
        "import torch.nn as nn\n",
        "import pandas as pd\n",
        "import numpy as np\n",
        "import matplotlib.pyplot as plt\n",
        "from sklearn import model_selection, preprocessing\n",
        "from torch.utils.data import DataLoader, Dataset"
      ]
    },
    {
      "cell_type": "code",
      "source": [
        "!wget -nc https://files.grouplens.org/datasets/movielens/ml-latest-small.zip\n",
        "!unzip -n ml-latest-small.zip"
      ],
      "metadata": {
        "colab": {
          "base_uri": "https://localhost:8080/"
        },
        "id": "FS0nbZD1qTUR",
        "outputId": "78cf94aa-6620-41e9-ac84-522fa1a3134b"
      },
      "execution_count": null,
      "outputs": [
        {
          "output_type": "stream",
          "name": "stdout",
          "text": [
            "--2024-06-27 12:27:05--  https://files.grouplens.org/datasets/movielens/ml-latest-small.zip\n",
            "Resolving files.grouplens.org (files.grouplens.org)... 128.101.65.152\n",
            "Connecting to files.grouplens.org (files.grouplens.org)|128.101.65.152|:443... connected.\n",
            "HTTP request sent, awaiting response... 200 OK\n",
            "Length: 978202 (955K) [application/zip]\n",
            "Saving to: ‘ml-latest-small.zip’\n",
            "\n",
            "ml-latest-small.zip 100%[===================>] 955.28K  4.48MB/s    in 0.2s    \n",
            "\n",
            "2024-06-27 12:27:06 (4.48 MB/s) - ‘ml-latest-small.zip’ saved [978202/978202]\n",
            "\n",
            "Archive:  ml-latest-small.zip\n",
            "   creating: ml-latest-small/\n",
            "  inflating: ml-latest-small/links.csv  \n",
            "  inflating: ml-latest-small/tags.csv  \n",
            "  inflating: ml-latest-small/ratings.csv  \n",
            "  inflating: ml-latest-small/README.txt  \n",
            "  inflating: ml-latest-small/movies.csv  \n"
          ]
        }
      ]
    },
    {
      "cell_type": "code",
      "source": [
        "device = 'cuda' if torch.cuda.is_available() else 'cpu'\n",
        "device"
      ],
      "metadata": {
        "colab": {
          "base_uri": "https://localhost:8080/",
          "height": 36
        },
        "id": "rHtjq00oXc6W",
        "outputId": "37d7e1b1-8858-48f4-a1c4-a7d53c9536cc"
      },
      "execution_count": null,
      "outputs": [
        {
          "output_type": "execute_result",
          "data": {
            "text/plain": [
              "'cpu'"
            ],
            "application/vnd.google.colaboratory.intrinsic+json": {
              "type": "string"
            }
          },
          "metadata": {},
          "execution_count": 3
        }
      ]
    },
    {
      "cell_type": "code",
      "source": [
        "df = pd.read_csv('/content/ml-latest-small/ratings.csv')\n",
        "df.head()"
      ],
      "metadata": {
        "colab": {
          "base_uri": "https://localhost:8080/",
          "height": 206
        },
        "id": "k1QrmYsZZIuR",
        "outputId": "fc74ddf7-2055-4b5f-f8a7-7c13033b4751"
      },
      "execution_count": null,
      "outputs": [
        {
          "output_type": "execute_result",
          "data": {
            "text/plain": [
              "   userId  movieId  rating  timestamp\n",
              "0       1        1     4.0  964982703\n",
              "1       1        3     4.0  964981247\n",
              "2       1        6     4.0  964982224\n",
              "3       1       47     5.0  964983815\n",
              "4       1       50     5.0  964982931"
            ],
            "text/html": [
              "\n",
              "  <div id=\"df-30678676-2a7c-4e5f-8b6f-d5607f6dc5de\" class=\"colab-df-container\">\n",
              "    <div>\n",
              "<style scoped>\n",
              "    .dataframe tbody tr th:only-of-type {\n",
              "        vertical-align: middle;\n",
              "    }\n",
              "\n",
              "    .dataframe tbody tr th {\n",
              "        vertical-align: top;\n",
              "    }\n",
              "\n",
              "    .dataframe thead th {\n",
              "        text-align: right;\n",
              "    }\n",
              "</style>\n",
              "<table border=\"1\" class=\"dataframe\">\n",
              "  <thead>\n",
              "    <tr style=\"text-align: right;\">\n",
              "      <th></th>\n",
              "      <th>userId</th>\n",
              "      <th>movieId</th>\n",
              "      <th>rating</th>\n",
              "      <th>timestamp</th>\n",
              "    </tr>\n",
              "  </thead>\n",
              "  <tbody>\n",
              "    <tr>\n",
              "      <th>0</th>\n",
              "      <td>1</td>\n",
              "      <td>1</td>\n",
              "      <td>4.0</td>\n",
              "      <td>964982703</td>\n",
              "    </tr>\n",
              "    <tr>\n",
              "      <th>1</th>\n",
              "      <td>1</td>\n",
              "      <td>3</td>\n",
              "      <td>4.0</td>\n",
              "      <td>964981247</td>\n",
              "    </tr>\n",
              "    <tr>\n",
              "      <th>2</th>\n",
              "      <td>1</td>\n",
              "      <td>6</td>\n",
              "      <td>4.0</td>\n",
              "      <td>964982224</td>\n",
              "    </tr>\n",
              "    <tr>\n",
              "      <th>3</th>\n",
              "      <td>1</td>\n",
              "      <td>47</td>\n",
              "      <td>5.0</td>\n",
              "      <td>964983815</td>\n",
              "    </tr>\n",
              "    <tr>\n",
              "      <th>4</th>\n",
              "      <td>1</td>\n",
              "      <td>50</td>\n",
              "      <td>5.0</td>\n",
              "      <td>964982931</td>\n",
              "    </tr>\n",
              "  </tbody>\n",
              "</table>\n",
              "</div>\n",
              "    <div class=\"colab-df-buttons\">\n",
              "\n",
              "  <div class=\"colab-df-container\">\n",
              "    <button class=\"colab-df-convert\" onclick=\"convertToInteractive('df-30678676-2a7c-4e5f-8b6f-d5607f6dc5de')\"\n",
              "            title=\"Convert this dataframe to an interactive table.\"\n",
              "            style=\"display:none;\">\n",
              "\n",
              "  <svg xmlns=\"http://www.w3.org/2000/svg\" height=\"24px\" viewBox=\"0 -960 960 960\">\n",
              "    <path d=\"M120-120v-720h720v720H120Zm60-500h600v-160H180v160Zm220 220h160v-160H400v160Zm0 220h160v-160H400v160ZM180-400h160v-160H180v160Zm440 0h160v-160H620v160ZM180-180h160v-160H180v160Zm440 0h160v-160H620v160Z\"/>\n",
              "  </svg>\n",
              "    </button>\n",
              "\n",
              "  <style>\n",
              "    .colab-df-container {\n",
              "      display:flex;\n",
              "      gap: 12px;\n",
              "    }\n",
              "\n",
              "    .colab-df-convert {\n",
              "      background-color: #E8F0FE;\n",
              "      border: none;\n",
              "      border-radius: 50%;\n",
              "      cursor: pointer;\n",
              "      display: none;\n",
              "      fill: #1967D2;\n",
              "      height: 32px;\n",
              "      padding: 0 0 0 0;\n",
              "      width: 32px;\n",
              "    }\n",
              "\n",
              "    .colab-df-convert:hover {\n",
              "      background-color: #E2EBFA;\n",
              "      box-shadow: 0px 1px 2px rgba(60, 64, 67, 0.3), 0px 1px 3px 1px rgba(60, 64, 67, 0.15);\n",
              "      fill: #174EA6;\n",
              "    }\n",
              "\n",
              "    .colab-df-buttons div {\n",
              "      margin-bottom: 4px;\n",
              "    }\n",
              "\n",
              "    [theme=dark] .colab-df-convert {\n",
              "      background-color: #3B4455;\n",
              "      fill: #D2E3FC;\n",
              "    }\n",
              "\n",
              "    [theme=dark] .colab-df-convert:hover {\n",
              "      background-color: #434B5C;\n",
              "      box-shadow: 0px 1px 3px 1px rgba(0, 0, 0, 0.15);\n",
              "      filter: drop-shadow(0px 1px 2px rgba(0, 0, 0, 0.3));\n",
              "      fill: #FFFFFF;\n",
              "    }\n",
              "  </style>\n",
              "\n",
              "    <script>\n",
              "      const buttonEl =\n",
              "        document.querySelector('#df-30678676-2a7c-4e5f-8b6f-d5607f6dc5de button.colab-df-convert');\n",
              "      buttonEl.style.display =\n",
              "        google.colab.kernel.accessAllowed ? 'block' : 'none';\n",
              "\n",
              "      async function convertToInteractive(key) {\n",
              "        const element = document.querySelector('#df-30678676-2a7c-4e5f-8b6f-d5607f6dc5de');\n",
              "        const dataTable =\n",
              "          await google.colab.kernel.invokeFunction('convertToInteractive',\n",
              "                                                    [key], {});\n",
              "        if (!dataTable) return;\n",
              "\n",
              "        const docLinkHtml = 'Like what you see? Visit the ' +\n",
              "          '<a target=\"_blank\" href=https://colab.research.google.com/notebooks/data_table.ipynb>data table notebook</a>'\n",
              "          + ' to learn more about interactive tables.';\n",
              "        element.innerHTML = '';\n",
              "        dataTable['output_type'] = 'display_data';\n",
              "        await google.colab.output.renderOutput(dataTable, element);\n",
              "        const docLink = document.createElement('div');\n",
              "        docLink.innerHTML = docLinkHtml;\n",
              "        element.appendChild(docLink);\n",
              "      }\n",
              "    </script>\n",
              "  </div>\n",
              "\n",
              "\n",
              "<div id=\"df-fefe2eb5-4058-424f-b74e-812a213209bc\">\n",
              "  <button class=\"colab-df-quickchart\" onclick=\"quickchart('df-fefe2eb5-4058-424f-b74e-812a213209bc')\"\n",
              "            title=\"Suggest charts\"\n",
              "            style=\"display:none;\">\n",
              "\n",
              "<svg xmlns=\"http://www.w3.org/2000/svg\" height=\"24px\"viewBox=\"0 0 24 24\"\n",
              "     width=\"24px\">\n",
              "    <g>\n",
              "        <path d=\"M19 3H5c-1.1 0-2 .9-2 2v14c0 1.1.9 2 2 2h14c1.1 0 2-.9 2-2V5c0-1.1-.9-2-2-2zM9 17H7v-7h2v7zm4 0h-2V7h2v10zm4 0h-2v-4h2v4z\"/>\n",
              "    </g>\n",
              "</svg>\n",
              "  </button>\n",
              "\n",
              "<style>\n",
              "  .colab-df-quickchart {\n",
              "      --bg-color: #E8F0FE;\n",
              "      --fill-color: #1967D2;\n",
              "      --hover-bg-color: #E2EBFA;\n",
              "      --hover-fill-color: #174EA6;\n",
              "      --disabled-fill-color: #AAA;\n",
              "      --disabled-bg-color: #DDD;\n",
              "  }\n",
              "\n",
              "  [theme=dark] .colab-df-quickchart {\n",
              "      --bg-color: #3B4455;\n",
              "      --fill-color: #D2E3FC;\n",
              "      --hover-bg-color: #434B5C;\n",
              "      --hover-fill-color: #FFFFFF;\n",
              "      --disabled-bg-color: #3B4455;\n",
              "      --disabled-fill-color: #666;\n",
              "  }\n",
              "\n",
              "  .colab-df-quickchart {\n",
              "    background-color: var(--bg-color);\n",
              "    border: none;\n",
              "    border-radius: 50%;\n",
              "    cursor: pointer;\n",
              "    display: none;\n",
              "    fill: var(--fill-color);\n",
              "    height: 32px;\n",
              "    padding: 0;\n",
              "    width: 32px;\n",
              "  }\n",
              "\n",
              "  .colab-df-quickchart:hover {\n",
              "    background-color: var(--hover-bg-color);\n",
              "    box-shadow: 0 1px 2px rgba(60, 64, 67, 0.3), 0 1px 3px 1px rgba(60, 64, 67, 0.15);\n",
              "    fill: var(--button-hover-fill-color);\n",
              "  }\n",
              "\n",
              "  .colab-df-quickchart-complete:disabled,\n",
              "  .colab-df-quickchart-complete:disabled:hover {\n",
              "    background-color: var(--disabled-bg-color);\n",
              "    fill: var(--disabled-fill-color);\n",
              "    box-shadow: none;\n",
              "  }\n",
              "\n",
              "  .colab-df-spinner {\n",
              "    border: 2px solid var(--fill-color);\n",
              "    border-color: transparent;\n",
              "    border-bottom-color: var(--fill-color);\n",
              "    animation:\n",
              "      spin 1s steps(1) infinite;\n",
              "  }\n",
              "\n",
              "  @keyframes spin {\n",
              "    0% {\n",
              "      border-color: transparent;\n",
              "      border-bottom-color: var(--fill-color);\n",
              "      border-left-color: var(--fill-color);\n",
              "    }\n",
              "    20% {\n",
              "      border-color: transparent;\n",
              "      border-left-color: var(--fill-color);\n",
              "      border-top-color: var(--fill-color);\n",
              "    }\n",
              "    30% {\n",
              "      border-color: transparent;\n",
              "      border-left-color: var(--fill-color);\n",
              "      border-top-color: var(--fill-color);\n",
              "      border-right-color: var(--fill-color);\n",
              "    }\n",
              "    40% {\n",
              "      border-color: transparent;\n",
              "      border-right-color: var(--fill-color);\n",
              "      border-top-color: var(--fill-color);\n",
              "    }\n",
              "    60% {\n",
              "      border-color: transparent;\n",
              "      border-right-color: var(--fill-color);\n",
              "    }\n",
              "    80% {\n",
              "      border-color: transparent;\n",
              "      border-right-color: var(--fill-color);\n",
              "      border-bottom-color: var(--fill-color);\n",
              "    }\n",
              "    90% {\n",
              "      border-color: transparent;\n",
              "      border-bottom-color: var(--fill-color);\n",
              "    }\n",
              "  }\n",
              "</style>\n",
              "\n",
              "  <script>\n",
              "    async function quickchart(key) {\n",
              "      const quickchartButtonEl =\n",
              "        document.querySelector('#' + key + ' button');\n",
              "      quickchartButtonEl.disabled = true;  // To prevent multiple clicks.\n",
              "      quickchartButtonEl.classList.add('colab-df-spinner');\n",
              "      try {\n",
              "        const charts = await google.colab.kernel.invokeFunction(\n",
              "            'suggestCharts', [key], {});\n",
              "      } catch (error) {\n",
              "        console.error('Error during call to suggestCharts:', error);\n",
              "      }\n",
              "      quickchartButtonEl.classList.remove('colab-df-spinner');\n",
              "      quickchartButtonEl.classList.add('colab-df-quickchart-complete');\n",
              "    }\n",
              "    (() => {\n",
              "      let quickchartButtonEl =\n",
              "        document.querySelector('#df-fefe2eb5-4058-424f-b74e-812a213209bc button');\n",
              "      quickchartButtonEl.style.display =\n",
              "        google.colab.kernel.accessAllowed ? 'block' : 'none';\n",
              "    })();\n",
              "  </script>\n",
              "</div>\n",
              "\n",
              "    </div>\n",
              "  </div>\n"
            ],
            "application/vnd.google.colaboratory.intrinsic+json": {
              "type": "dataframe",
              "variable_name": "df"
            }
          },
          "metadata": {},
          "execution_count": 4
        }
      ]
    },
    {
      "cell_type": "code",
      "source": [
        "df.dtypes"
      ],
      "metadata": {
        "colab": {
          "base_uri": "https://localhost:8080/"
        },
        "id": "7vig-ABGL5h9",
        "outputId": "b584722e-2619-4fbd-9170-65ca5d73a47b"
      },
      "execution_count": null,
      "outputs": [
        {
          "output_type": "execute_result",
          "data": {
            "text/plain": [
              "userId         int64\n",
              "movieId        int64\n",
              "rating       float64\n",
              "timestamp      int64\n",
              "dtype: object"
            ]
          },
          "metadata": {},
          "execution_count": 5
        }
      ]
    },
    {
      "cell_type": "code",
      "source": [
        "df.describe()"
      ],
      "metadata": {
        "colab": {
          "base_uri": "https://localhost:8080/",
          "height": 300
        },
        "id": "nOkJk-JQZdRt",
        "outputId": "8f244b4c-9dd7-456b-8c19-50a1649b1b65"
      },
      "execution_count": null,
      "outputs": [
        {
          "output_type": "execute_result",
          "data": {
            "text/plain": [
              "              userId        movieId         rating     timestamp\n",
              "count  100836.000000  100836.000000  100836.000000  1.008360e+05\n",
              "mean      326.127564   19435.295718       3.501557  1.205946e+09\n",
              "std       182.618491   35530.987199       1.042529  2.162610e+08\n",
              "min         1.000000       1.000000       0.500000  8.281246e+08\n",
              "25%       177.000000    1199.000000       3.000000  1.019124e+09\n",
              "50%       325.000000    2991.000000       3.500000  1.186087e+09\n",
              "75%       477.000000    8122.000000       4.000000  1.435994e+09\n",
              "max       610.000000  193609.000000       5.000000  1.537799e+09"
            ],
            "text/html": [
              "\n",
              "  <div id=\"df-27aa70a5-e382-4874-bf78-c95e73108ca5\" class=\"colab-df-container\">\n",
              "    <div>\n",
              "<style scoped>\n",
              "    .dataframe tbody tr th:only-of-type {\n",
              "        vertical-align: middle;\n",
              "    }\n",
              "\n",
              "    .dataframe tbody tr th {\n",
              "        vertical-align: top;\n",
              "    }\n",
              "\n",
              "    .dataframe thead th {\n",
              "        text-align: right;\n",
              "    }\n",
              "</style>\n",
              "<table border=\"1\" class=\"dataframe\">\n",
              "  <thead>\n",
              "    <tr style=\"text-align: right;\">\n",
              "      <th></th>\n",
              "      <th>userId</th>\n",
              "      <th>movieId</th>\n",
              "      <th>rating</th>\n",
              "      <th>timestamp</th>\n",
              "    </tr>\n",
              "  </thead>\n",
              "  <tbody>\n",
              "    <tr>\n",
              "      <th>count</th>\n",
              "      <td>100836.000000</td>\n",
              "      <td>100836.000000</td>\n",
              "      <td>100836.000000</td>\n",
              "      <td>1.008360e+05</td>\n",
              "    </tr>\n",
              "    <tr>\n",
              "      <th>mean</th>\n",
              "      <td>326.127564</td>\n",
              "      <td>19435.295718</td>\n",
              "      <td>3.501557</td>\n",
              "      <td>1.205946e+09</td>\n",
              "    </tr>\n",
              "    <tr>\n",
              "      <th>std</th>\n",
              "      <td>182.618491</td>\n",
              "      <td>35530.987199</td>\n",
              "      <td>1.042529</td>\n",
              "      <td>2.162610e+08</td>\n",
              "    </tr>\n",
              "    <tr>\n",
              "      <th>min</th>\n",
              "      <td>1.000000</td>\n",
              "      <td>1.000000</td>\n",
              "      <td>0.500000</td>\n",
              "      <td>8.281246e+08</td>\n",
              "    </tr>\n",
              "    <tr>\n",
              "      <th>25%</th>\n",
              "      <td>177.000000</td>\n",
              "      <td>1199.000000</td>\n",
              "      <td>3.000000</td>\n",
              "      <td>1.019124e+09</td>\n",
              "    </tr>\n",
              "    <tr>\n",
              "      <th>50%</th>\n",
              "      <td>325.000000</td>\n",
              "      <td>2991.000000</td>\n",
              "      <td>3.500000</td>\n",
              "      <td>1.186087e+09</td>\n",
              "    </tr>\n",
              "    <tr>\n",
              "      <th>75%</th>\n",
              "      <td>477.000000</td>\n",
              "      <td>8122.000000</td>\n",
              "      <td>4.000000</td>\n",
              "      <td>1.435994e+09</td>\n",
              "    </tr>\n",
              "    <tr>\n",
              "      <th>max</th>\n",
              "      <td>610.000000</td>\n",
              "      <td>193609.000000</td>\n",
              "      <td>5.000000</td>\n",
              "      <td>1.537799e+09</td>\n",
              "    </tr>\n",
              "  </tbody>\n",
              "</table>\n",
              "</div>\n",
              "    <div class=\"colab-df-buttons\">\n",
              "\n",
              "  <div class=\"colab-df-container\">\n",
              "    <button class=\"colab-df-convert\" onclick=\"convertToInteractive('df-27aa70a5-e382-4874-bf78-c95e73108ca5')\"\n",
              "            title=\"Convert this dataframe to an interactive table.\"\n",
              "            style=\"display:none;\">\n",
              "\n",
              "  <svg xmlns=\"http://www.w3.org/2000/svg\" height=\"24px\" viewBox=\"0 -960 960 960\">\n",
              "    <path d=\"M120-120v-720h720v720H120Zm60-500h600v-160H180v160Zm220 220h160v-160H400v160Zm0 220h160v-160H400v160ZM180-400h160v-160H180v160Zm440 0h160v-160H620v160ZM180-180h160v-160H180v160Zm440 0h160v-160H620v160Z\"/>\n",
              "  </svg>\n",
              "    </button>\n",
              "\n",
              "  <style>\n",
              "    .colab-df-container {\n",
              "      display:flex;\n",
              "      gap: 12px;\n",
              "    }\n",
              "\n",
              "    .colab-df-convert {\n",
              "      background-color: #E8F0FE;\n",
              "      border: none;\n",
              "      border-radius: 50%;\n",
              "      cursor: pointer;\n",
              "      display: none;\n",
              "      fill: #1967D2;\n",
              "      height: 32px;\n",
              "      padding: 0 0 0 0;\n",
              "      width: 32px;\n",
              "    }\n",
              "\n",
              "    .colab-df-convert:hover {\n",
              "      background-color: #E2EBFA;\n",
              "      box-shadow: 0px 1px 2px rgba(60, 64, 67, 0.3), 0px 1px 3px 1px rgba(60, 64, 67, 0.15);\n",
              "      fill: #174EA6;\n",
              "    }\n",
              "\n",
              "    .colab-df-buttons div {\n",
              "      margin-bottom: 4px;\n",
              "    }\n",
              "\n",
              "    [theme=dark] .colab-df-convert {\n",
              "      background-color: #3B4455;\n",
              "      fill: #D2E3FC;\n",
              "    }\n",
              "\n",
              "    [theme=dark] .colab-df-convert:hover {\n",
              "      background-color: #434B5C;\n",
              "      box-shadow: 0px 1px 3px 1px rgba(0, 0, 0, 0.15);\n",
              "      filter: drop-shadow(0px 1px 2px rgba(0, 0, 0, 0.3));\n",
              "      fill: #FFFFFF;\n",
              "    }\n",
              "  </style>\n",
              "\n",
              "    <script>\n",
              "      const buttonEl =\n",
              "        document.querySelector('#df-27aa70a5-e382-4874-bf78-c95e73108ca5 button.colab-df-convert');\n",
              "      buttonEl.style.display =\n",
              "        google.colab.kernel.accessAllowed ? 'block' : 'none';\n",
              "\n",
              "      async function convertToInteractive(key) {\n",
              "        const element = document.querySelector('#df-27aa70a5-e382-4874-bf78-c95e73108ca5');\n",
              "        const dataTable =\n",
              "          await google.colab.kernel.invokeFunction('convertToInteractive',\n",
              "                                                    [key], {});\n",
              "        if (!dataTable) return;\n",
              "\n",
              "        const docLinkHtml = 'Like what you see? Visit the ' +\n",
              "          '<a target=\"_blank\" href=https://colab.research.google.com/notebooks/data_table.ipynb>data table notebook</a>'\n",
              "          + ' to learn more about interactive tables.';\n",
              "        element.innerHTML = '';\n",
              "        dataTable['output_type'] = 'display_data';\n",
              "        await google.colab.output.renderOutput(dataTable, element);\n",
              "        const docLink = document.createElement('div');\n",
              "        docLink.innerHTML = docLinkHtml;\n",
              "        element.appendChild(docLink);\n",
              "      }\n",
              "    </script>\n",
              "  </div>\n",
              "\n",
              "\n",
              "<div id=\"df-2ecdfd47-0faa-4df1-a7c0-2b64786e81fc\">\n",
              "  <button class=\"colab-df-quickchart\" onclick=\"quickchart('df-2ecdfd47-0faa-4df1-a7c0-2b64786e81fc')\"\n",
              "            title=\"Suggest charts\"\n",
              "            style=\"display:none;\">\n",
              "\n",
              "<svg xmlns=\"http://www.w3.org/2000/svg\" height=\"24px\"viewBox=\"0 0 24 24\"\n",
              "     width=\"24px\">\n",
              "    <g>\n",
              "        <path d=\"M19 3H5c-1.1 0-2 .9-2 2v14c0 1.1.9 2 2 2h14c1.1 0 2-.9 2-2V5c0-1.1-.9-2-2-2zM9 17H7v-7h2v7zm4 0h-2V7h2v10zm4 0h-2v-4h2v4z\"/>\n",
              "    </g>\n",
              "</svg>\n",
              "  </button>\n",
              "\n",
              "<style>\n",
              "  .colab-df-quickchart {\n",
              "      --bg-color: #E8F0FE;\n",
              "      --fill-color: #1967D2;\n",
              "      --hover-bg-color: #E2EBFA;\n",
              "      --hover-fill-color: #174EA6;\n",
              "      --disabled-fill-color: #AAA;\n",
              "      --disabled-bg-color: #DDD;\n",
              "  }\n",
              "\n",
              "  [theme=dark] .colab-df-quickchart {\n",
              "      --bg-color: #3B4455;\n",
              "      --fill-color: #D2E3FC;\n",
              "      --hover-bg-color: #434B5C;\n",
              "      --hover-fill-color: #FFFFFF;\n",
              "      --disabled-bg-color: #3B4455;\n",
              "      --disabled-fill-color: #666;\n",
              "  }\n",
              "\n",
              "  .colab-df-quickchart {\n",
              "    background-color: var(--bg-color);\n",
              "    border: none;\n",
              "    border-radius: 50%;\n",
              "    cursor: pointer;\n",
              "    display: none;\n",
              "    fill: var(--fill-color);\n",
              "    height: 32px;\n",
              "    padding: 0;\n",
              "    width: 32px;\n",
              "  }\n",
              "\n",
              "  .colab-df-quickchart:hover {\n",
              "    background-color: var(--hover-bg-color);\n",
              "    box-shadow: 0 1px 2px rgba(60, 64, 67, 0.3), 0 1px 3px 1px rgba(60, 64, 67, 0.15);\n",
              "    fill: var(--button-hover-fill-color);\n",
              "  }\n",
              "\n",
              "  .colab-df-quickchart-complete:disabled,\n",
              "  .colab-df-quickchart-complete:disabled:hover {\n",
              "    background-color: var(--disabled-bg-color);\n",
              "    fill: var(--disabled-fill-color);\n",
              "    box-shadow: none;\n",
              "  }\n",
              "\n",
              "  .colab-df-spinner {\n",
              "    border: 2px solid var(--fill-color);\n",
              "    border-color: transparent;\n",
              "    border-bottom-color: var(--fill-color);\n",
              "    animation:\n",
              "      spin 1s steps(1) infinite;\n",
              "  }\n",
              "\n",
              "  @keyframes spin {\n",
              "    0% {\n",
              "      border-color: transparent;\n",
              "      border-bottom-color: var(--fill-color);\n",
              "      border-left-color: var(--fill-color);\n",
              "    }\n",
              "    20% {\n",
              "      border-color: transparent;\n",
              "      border-left-color: var(--fill-color);\n",
              "      border-top-color: var(--fill-color);\n",
              "    }\n",
              "    30% {\n",
              "      border-color: transparent;\n",
              "      border-left-color: var(--fill-color);\n",
              "      border-top-color: var(--fill-color);\n",
              "      border-right-color: var(--fill-color);\n",
              "    }\n",
              "    40% {\n",
              "      border-color: transparent;\n",
              "      border-right-color: var(--fill-color);\n",
              "      border-top-color: var(--fill-color);\n",
              "    }\n",
              "    60% {\n",
              "      border-color: transparent;\n",
              "      border-right-color: var(--fill-color);\n",
              "    }\n",
              "    80% {\n",
              "      border-color: transparent;\n",
              "      border-right-color: var(--fill-color);\n",
              "      border-bottom-color: var(--fill-color);\n",
              "    }\n",
              "    90% {\n",
              "      border-color: transparent;\n",
              "      border-bottom-color: var(--fill-color);\n",
              "    }\n",
              "  }\n",
              "</style>\n",
              "\n",
              "  <script>\n",
              "    async function quickchart(key) {\n",
              "      const quickchartButtonEl =\n",
              "        document.querySelector('#' + key + ' button');\n",
              "      quickchartButtonEl.disabled = true;  // To prevent multiple clicks.\n",
              "      quickchartButtonEl.classList.add('colab-df-spinner');\n",
              "      try {\n",
              "        const charts = await google.colab.kernel.invokeFunction(\n",
              "            'suggestCharts', [key], {});\n",
              "      } catch (error) {\n",
              "        console.error('Error during call to suggestCharts:', error);\n",
              "      }\n",
              "      quickchartButtonEl.classList.remove('colab-df-spinner');\n",
              "      quickchartButtonEl.classList.add('colab-df-quickchart-complete');\n",
              "    }\n",
              "    (() => {\n",
              "      let quickchartButtonEl =\n",
              "        document.querySelector('#df-2ecdfd47-0faa-4df1-a7c0-2b64786e81fc button');\n",
              "      quickchartButtonEl.style.display =\n",
              "        google.colab.kernel.accessAllowed ? 'block' : 'none';\n",
              "    })();\n",
              "  </script>\n",
              "</div>\n",
              "\n",
              "    </div>\n",
              "  </div>\n"
            ],
            "application/vnd.google.colaboratory.intrinsic+json": {
              "type": "dataframe",
              "summary": "{\n  \"name\": \"df\",\n  \"rows\": 8,\n  \"fields\": [\n    {\n      \"column\": \"userId\",\n      \"properties\": {\n        \"dtype\": \"number\",\n        \"std\": 35545.40345112833,\n        \"min\": 1.0,\n        \"max\": 100836.0,\n        \"num_unique_values\": 8,\n        \"samples\": [\n          326.12756356856676,\n          325.0,\n          100836.0\n        ],\n        \"semantic_type\": \"\",\n        \"description\": \"\"\n      }\n    },\n    {\n      \"column\": \"movieId\",\n      \"properties\": {\n        \"dtype\": \"number\",\n        \"std\": 68674.51077210998,\n        \"min\": 1.0,\n        \"max\": 193609.0,\n        \"num_unique_values\": 8,\n        \"samples\": [\n          19435.2957177992,\n          2991.0,\n          100836.0\n        ],\n        \"semantic_type\": \"\",\n        \"description\": \"\"\n      }\n    },\n    {\n      \"column\": \"rating\",\n      \"properties\": {\n        \"dtype\": \"number\",\n        \"std\": 35649.872091978,\n        \"min\": 0.5,\n        \"max\": 100836.0,\n        \"num_unique_values\": 8,\n        \"samples\": [\n          3.501556983616962,\n          3.5,\n          100836.0\n        ],\n        \"semantic_type\": \"\",\n        \"description\": \"\"\n      }\n    },\n    {\n      \"column\": \"timestamp\",\n      \"properties\": {\n        \"dtype\": \"number\",\n        \"std\": 555443207.4882222,\n        \"min\": 100836.0,\n        \"max\": 1537799250.0,\n        \"num_unique_values\": 8,\n        \"samples\": [\n          1205946087.3684695,\n          1186086662.0,\n          100836.0\n        ],\n        \"semantic_type\": \"\",\n        \"description\": \"\"\n      }\n    }\n  ]\n}"
            }
          },
          "metadata": {},
          "execution_count": 6
        }
      ]
    },
    {
      "cell_type": "code",
      "source": [
        "df.isnull().sum()"
      ],
      "metadata": {
        "colab": {
          "base_uri": "https://localhost:8080/"
        },
        "id": "O9yH5vobIiEy",
        "outputId": "e3391f03-27c6-4a52-e8e1-7d70b04d27d9"
      },
      "execution_count": null,
      "outputs": [
        {
          "output_type": "execute_result",
          "data": {
            "text/plain": [
              "userId       0\n",
              "movieId      0\n",
              "rating       0\n",
              "timestamp    0\n",
              "dtype: int64"
            ]
          },
          "metadata": {},
          "execution_count": 7
        }
      ]
    },
    {
      "cell_type": "code",
      "source": [
        "df['userId'].unique(),df['userId'].nunique()"
      ],
      "metadata": {
        "colab": {
          "base_uri": "https://localhost:8080/"
        },
        "id": "XtMCjI7-ZqeM",
        "outputId": "b5be47a4-02b8-4a20-c6df-b1be4672b9e3"
      },
      "execution_count": null,
      "outputs": [
        {
          "output_type": "execute_result",
          "data": {
            "text/plain": [
              "(array([  1,   2,   3,   4,   5,   6,   7,   8,   9,  10,  11,  12,  13,\n",
              "         14,  15,  16,  17,  18,  19,  20,  21,  22,  23,  24,  25,  26,\n",
              "         27,  28,  29,  30,  31,  32,  33,  34,  35,  36,  37,  38,  39,\n",
              "         40,  41,  42,  43,  44,  45,  46,  47,  48,  49,  50,  51,  52,\n",
              "         53,  54,  55,  56,  57,  58,  59,  60,  61,  62,  63,  64,  65,\n",
              "         66,  67,  68,  69,  70,  71,  72,  73,  74,  75,  76,  77,  78,\n",
              "         79,  80,  81,  82,  83,  84,  85,  86,  87,  88,  89,  90,  91,\n",
              "         92,  93,  94,  95,  96,  97,  98,  99, 100, 101, 102, 103, 104,\n",
              "        105, 106, 107, 108, 109, 110, 111, 112, 113, 114, 115, 116, 117,\n",
              "        118, 119, 120, 121, 122, 123, 124, 125, 126, 127, 128, 129, 130,\n",
              "        131, 132, 133, 134, 135, 136, 137, 138, 139, 140, 141, 142, 143,\n",
              "        144, 145, 146, 147, 148, 149, 150, 151, 152, 153, 154, 155, 156,\n",
              "        157, 158, 159, 160, 161, 162, 163, 164, 165, 166, 167, 168, 169,\n",
              "        170, 171, 172, 173, 174, 175, 176, 177, 178, 179, 180, 181, 182,\n",
              "        183, 184, 185, 186, 187, 188, 189, 190, 191, 192, 193, 194, 195,\n",
              "        196, 197, 198, 199, 200, 201, 202, 203, 204, 205, 206, 207, 208,\n",
              "        209, 210, 211, 212, 213, 214, 215, 216, 217, 218, 219, 220, 221,\n",
              "        222, 223, 224, 225, 226, 227, 228, 229, 230, 231, 232, 233, 234,\n",
              "        235, 236, 237, 238, 239, 240, 241, 242, 243, 244, 245, 246, 247,\n",
              "        248, 249, 250, 251, 252, 253, 254, 255, 256, 257, 258, 259, 260,\n",
              "        261, 262, 263, 264, 265, 266, 267, 268, 269, 270, 271, 272, 273,\n",
              "        274, 275, 276, 277, 278, 279, 280, 281, 282, 283, 284, 285, 286,\n",
              "        287, 288, 289, 290, 291, 292, 293, 294, 295, 296, 297, 298, 299,\n",
              "        300, 301, 302, 303, 304, 305, 306, 307, 308, 309, 310, 311, 312,\n",
              "        313, 314, 315, 316, 317, 318, 319, 320, 321, 322, 323, 324, 325,\n",
              "        326, 327, 328, 329, 330, 331, 332, 333, 334, 335, 336, 337, 338,\n",
              "        339, 340, 341, 342, 343, 344, 345, 346, 347, 348, 349, 350, 351,\n",
              "        352, 353, 354, 355, 356, 357, 358, 359, 360, 361, 362, 363, 364,\n",
              "        365, 366, 367, 368, 369, 370, 371, 372, 373, 374, 375, 376, 377,\n",
              "        378, 379, 380, 381, 382, 383, 384, 385, 386, 387, 388, 389, 390,\n",
              "        391, 392, 393, 394, 395, 396, 397, 398, 399, 400, 401, 402, 403,\n",
              "        404, 405, 406, 407, 408, 409, 410, 411, 412, 413, 414, 415, 416,\n",
              "        417, 418, 419, 420, 421, 422, 423, 424, 425, 426, 427, 428, 429,\n",
              "        430, 431, 432, 433, 434, 435, 436, 437, 438, 439, 440, 441, 442,\n",
              "        443, 444, 445, 446, 447, 448, 449, 450, 451, 452, 453, 454, 455,\n",
              "        456, 457, 458, 459, 460, 461, 462, 463, 464, 465, 466, 467, 468,\n",
              "        469, 470, 471, 472, 473, 474, 475, 476, 477, 478, 479, 480, 481,\n",
              "        482, 483, 484, 485, 486, 487, 488, 489, 490, 491, 492, 493, 494,\n",
              "        495, 496, 497, 498, 499, 500, 501, 502, 503, 504, 505, 506, 507,\n",
              "        508, 509, 510, 511, 512, 513, 514, 515, 516, 517, 518, 519, 520,\n",
              "        521, 522, 523, 524, 525, 526, 527, 528, 529, 530, 531, 532, 533,\n",
              "        534, 535, 536, 537, 538, 539, 540, 541, 542, 543, 544, 545, 546,\n",
              "        547, 548, 549, 550, 551, 552, 553, 554, 555, 556, 557, 558, 559,\n",
              "        560, 561, 562, 563, 564, 565, 566, 567, 568, 569, 570, 571, 572,\n",
              "        573, 574, 575, 576, 577, 578, 579, 580, 581, 582, 583, 584, 585,\n",
              "        586, 587, 588, 589, 590, 591, 592, 593, 594, 595, 596, 597, 598,\n",
              "        599, 600, 601, 602, 603, 604, 605, 606, 607, 608, 609, 610]),\n",
              " 610)"
            ]
          },
          "metadata": {},
          "execution_count": 8
        }
      ]
    },
    {
      "cell_type": "code",
      "source": [
        "df['movieId'].nunique()"
      ],
      "metadata": {
        "colab": {
          "base_uri": "https://localhost:8080/"
        },
        "id": "5MahENJpZ1EM",
        "outputId": "16004216-819a-44f6-e3ab-6bd2b73856f9"
      },
      "execution_count": null,
      "outputs": [
        {
          "output_type": "execute_result",
          "data": {
            "text/plain": [
              "9724"
            ]
          },
          "metadata": {},
          "execution_count": 9
        }
      ]
    },
    {
      "cell_type": "code",
      "source": [
        "df.rating.value_counts()"
      ],
      "metadata": {
        "colab": {
          "base_uri": "https://localhost:8080/"
        },
        "id": "WSPvn8-obFnu",
        "outputId": "88c2a219-283e-4bc4-f519-f3f81d9d170d"
      },
      "execution_count": null,
      "outputs": [
        {
          "output_type": "execute_result",
          "data": {
            "text/plain": [
              "rating\n",
              "4.0    26818\n",
              "3.0    20047\n",
              "5.0    13211\n",
              "3.5    13136\n",
              "4.5     8551\n",
              "2.0     7551\n",
              "2.5     5550\n",
              "1.0     2811\n",
              "1.5     1791\n",
              "0.5     1370\n",
              "Name: count, dtype: int64"
            ]
          },
          "metadata": {},
          "execution_count": 10
        }
      ]
    },
    {
      "cell_type": "code",
      "source": [
        "plt.figure(figsize=(6,4))\n",
        "plt.hist(df['rating'])\n",
        "plt.title('Distribution')\n",
        "plt.xlabel('rating')\n",
        "plt.ylabel('count')\n",
        "plt.show()"
      ],
      "metadata": {
        "colab": {
          "base_uri": "https://localhost:8080/",
          "height": 410
        },
        "id": "GgFVlip_bcwc",
        "outputId": "3dfe2736-bb1e-4463-aded-59faac0b3d36"
      },
      "execution_count": null,
      "outputs": [
        {
          "output_type": "display_data",
          "data": {
            "text/plain": [
              "<Figure size 600x400 with 1 Axes>"
            ],
            "image/png": "[encoded data removed]"
          },
          "metadata": {}
        }
      ]
    },
    {
      "cell_type": "code",
      "source": [
        "class MovielensDataset(Dataset):\n",
        "    def __init__(self,users,movies,ratings):\n",
        "        self.users = users\n",
        "        self.movies = movies\n",
        "        self.ratings = ratings\n",
        "\n",
        "    def __len__(self):\n",
        "        return len(self.users)\n",
        "\n",
        "    def __getitem__(self,item):\n",
        "        users = self.users[item]\n",
        "        movies = self.movies[item]\n",
        "        ratings = self.ratings[item]\n",
        "\n",
        "        return {\n",
        "            \"users\" : torch.tensor(users, dtype=torch.long),\n",
        "            \"movies\" : torch.tensor(movies, dtype=torch.long),\n",
        "            \"ratings\" : torch.tensor(ratings, dtype=torch.float)\n",
        "        }\n"
      ],
      "metadata": {
        "id": "qtNvuB7icOgL"
      },
      "execution_count": null,
      "outputs": []
    },
    {
      "cell_type": "code",
      "source": [
        "class RecommendationSystemModel(nn.Module):\n",
        "    def __init__(\n",
        "            self,\n",
        "            num_users,\n",
        "            num_movies,\n",
        "            embedding_size=256,\n",
        "            hidden_dim=256,\n",
        "            dropout_rate=0.2\n",
        "    ):\n",
        "        super(RecommendationSystemModel, self).__init__()\n",
        "        self.num_users = num_users\n",
        "        self.num_movies = num_movies\n",
        "        self.embedding_size = embedding_size\n",
        "        self.hidden_dim = hidden_dim\n",
        "        self.dropout = nn.Dropout(p=dropout_rate)\n",
        "\n",
        "        self.user_embedding = nn.Embedding(num_embeddings = self.num_users, embedding_dim = self.embedding_size)\n",
        "        self.movies_embedding = nn.Embedding(num_embeddings = self.num_movies, embedding_dim = self.embedding_size)\n",
        "\n",
        "        self.relu = nn.ReLU()\n",
        "\n",
        "        self.first_layer = nn.Linear(self.embedding_size*2, hidden_dim)\n",
        "        self.second_layer = nn.Linear(hidden_dim, 1)\n",
        "\n",
        "    def forward(self,users,movies):\n",
        "        users_embedded = self.user_embedding(users)\n",
        "        movies_embedded = self.movies_embedding(movies)\n",
        "\n",
        "        combined = torch.cat([users_embedded, movies_embedded], dim=1)\n",
        "\n",
        "        return self.second_layer(self.dropout(self.relu(self.first_layer(combined))))"
      ],
      "metadata": {
        "id": "gRs0tUnJLMTu"
      },
      "execution_count": null,
      "outputs": []
    },
    {
      "cell_type": "code",
      "source": [
        "le_movies = preprocessing.LabelEncoder()\n",
        "le_users = preprocessing.LabelEncoder()\n",
        "\n",
        "df['movieId'] = le_movies.fit_transform(df['movieId'].values)\n",
        "df['userId'] = le_users.fit_transform(df['userId'].values)\n",
        "\n",
        "df_train, df_test = model_selection.train_test_split(df, test_size = 0.2, random_state = 24, stratify = df['rating'].values)\n",
        "\n",
        "train_dataset = MovielensDataset(\n",
        "    users = df_train['userId'].values,\n",
        "    movies = df_train['movieId'].values,\n",
        "    ratings = df_train['rating'].values\n",
        ")\n",
        "\n",
        "test_dataset = MovielensDataset(\n",
        "    users = df_test['userId'].values,\n",
        "    movies = df_test['movieId'].values,\n",
        "    ratings = df_test['rating'].values\n",
        ")"
      ],
      "metadata": {
        "id": "DPBggqPmjOP4"
      },
      "execution_count": null,
      "outputs": []
    },
    {
      "cell_type": "code",
      "source": [
        "df_train.shape, df_test.shape"
      ],
      "metadata": {
        "colab": {
          "base_uri": "https://localhost:8080/"
        },
        "id": "Y5_xC7fDETVN",
        "outputId": "c441eb25-37f5-41d7-b77c-248c849be95f"
      },
      "execution_count": null,
      "outputs": [
        {
          "output_type": "execute_result",
          "data": {
            "text/plain": [
              "((80668, 4), (20168, 4))"
            ]
          },
          "metadata": {},
          "execution_count": 15
        }
      ]
    },
    {
      "cell_type": "code",
      "source": [
        "batch_size = 32\n",
        "\n",
        "train_loader = DataLoader(train_dataset, batch_size = batch_size, shuffle = True, num_workers = 8)\n",
        "test_loader = DataLoader(test_dataset, batch_size = batch_size, shuffle = True, num_workers = 8)"
      ],
      "metadata": {
        "colab": {
          "base_uri": "https://localhost:8080/"
        },
        "id": "QBimHyFDGtAh",
        "outputId": "842d5268-085e-4432-bc08-c2d42034fceb"
      },
      "execution_count": null,
      "outputs": [
        {
          "output_type": "stream",
          "name": "stderr",
          "text": [
            "/usr/local/lib/python3.10/dist-packages/torch/utils/data/dataloader.py:558: UserWarning: This DataLoader will create 8 worker processes in total. Our suggested max number of worker in current system is 2, which is smaller than what this DataLoader is going to create. Please be aware that excessive worker creation might get DataLoader running slow or even freeze, lower the worker number to avoid potential slowness/freeze if necessary.\n",
            "  warnings.warn(_create_warning_msg(\n"
          ]
        }
      ]
    },
    {
      "cell_type": "code",
      "source": [
        "le_movies.classes_, le_users.classes_"
      ],
      "metadata": {
        "colab": {
          "base_uri": "https://localhost:8080/"
        },
        "id": "SG3t33UnIHcP",
        "outputId": "e8f19cf5-ef1d-4911-f2fe-e4328b1f778a"
      },
      "execution_count": null,
      "outputs": [
        {
          "output_type": "execute_result",
          "data": {
            "text/plain": [
              "(array([     1,      2,      3, ..., 193585, 193587, 193609]),\n",
              " array([  1,   2,   3,   4,   5,   6,   7,   8,   9,  10,  11,  12,  13,\n",
              "         14,  15,  16,  17,  18,  19,  20,  21,  22,  23,  24,  25,  26,\n",
              "         27,  28,  29,  30,  31,  32,  33,  34,  35,  36,  37,  38,  39,\n",
              "         40,  41,  42,  43,  44,  45,  46,  47,  48,  49,  50,  51,  52,\n",
              "         53,  54,  55,  56,  57,  58,  59,  60,  61,  62,  63,  64,  65,\n",
              "         66,  67,  68,  69,  70,  71,  72,  73,  74,  75,  76,  77,  78,\n",
              "         79,  80,  81,  82,  83,  84,  85,  86,  87,  88,  89,  90,  91,\n",
              "         92,  93,  94,  95,  96,  97,  98,  99, 100, 101, 102, 103, 104,\n",
              "        105, 106, 107, 108, 109, 110, 111, 112, 113, 114, 115, 116, 117,\n",
              "        118, 119, 120, 121, 122, 123, 124, 125, 126, 127, 128, 129, 130,\n",
              "        131, 132, 133, 134, 135, 136, 137, 138, 139, 140, 141, 142, 143,\n",
              "        144, 145, 146, 147, 148, 149, 150, 151, 152, 153, 154, 155, 156,\n",
              "        157, 158, 159, 160, 161, 162, 163, 164, 165, 166, 167, 168, 169,\n",
              "        170, 171, 172, 173, 174, 175, 176, 177, 178, 179, 180, 181, 182,\n",
              "        183, 184, 185, 186, 187, 188, 189, 190, 191, 192, 193, 194, 195,\n",
              "        196, 197, 198, 199, 200, 201, 202, 203, 204, 205, 206, 207, 208,\n",
              "        209, 210, 211, 212, 213, 214, 215, 216, 217, 218, 219, 220, 221,\n",
              "        222, 223, 224, 225, 226, 227, 228, 229, 230, 231, 232, 233, 234,\n",
              "        235, 236, 237, 238, 239, 240, 241, 242, 243, 244, 245, 246, 247,\n",
              "        248, 249, 250, 251, 252, 253, 254, 255, 256, 257, 258, 259, 260,\n",
              "        261, 262, 263, 264, 265, 266, 267, 268, 269, 270, 271, 272, 273,\n",
              "        274, 275, 276, 277, 278, 279, 280, 281, 282, 283, 284, 285, 286,\n",
              "        287, 288, 289, 290, 291, 292, 293, 294, 295, 296, 297, 298, 299,\n",
              "        300, 301, 302, 303, 304, 305, 306, 307, 308, 309, 310, 311, 312,\n",
              "        313, 314, 315, 316, 317, 318, 319, 320, 321, 322, 323, 324, 325,\n",
              "        326, 327, 328, 329, 330, 331, 332, 333, 334, 335, 336, 337, 338,\n",
              "        339, 340, 341, 342, 343, 344, 345, 346, 347, 348, 349, 350, 351,\n",
              "        352, 353, 354, 355, 356, 357, 358, 359, 360, 361, 362, 363, 364,\n",
              "        365, 366, 367, 368, 369, 370, 371, 372, 373, 374, 375, 376, 377,\n",
              "        378, 379, 380, 381, 382, 383, 384, 385, 386, 387, 388, 389, 390,\n",
              "        391, 392, 393, 394, 395, 396, 397, 398, 399, 400, 401, 402, 403,\n",
              "        404, 405, 406, 407, 408, 409, 410, 411, 412, 413, 414, 415, 416,\n",
              "        417, 418, 419, 420, 421, 422, 423, 424, 425, 426, 427, 428, 429,\n",
              "        430, 431, 432, 433, 434, 435, 436, 437, 438, 439, 440, 441, 442,\n",
              "        443, 444, 445, 446, 447, 448, 449, 450, 451, 452, 453, 454, 455,\n",
              "        456, 457, 458, 459, 460, 461, 462, 463, 464, 465, 466, 467, 468,\n",
              "        469, 470, 471, 472, 473, 474, 475, 476, 477, 478, 479, 480, 481,\n",
              "        482, 483, 484, 485, 486, 487, 488, 489, 490, 491, 492, 493, 494,\n",
              "        495, 496, 497, 498, 499, 500, 501, 502, 503, 504, 505, 506, 507,\n",
              "        508, 509, 510, 511, 512, 513, 514, 515, 516, 517, 518, 519, 520,\n",
              "        521, 522, 523, 524, 525, 526, 527, 528, 529, 530, 531, 532, 533,\n",
              "        534, 535, 536, 537, 538, 539, 540, 541, 542, 543, 544, 545, 546,\n",
              "        547, 548, 549, 550, 551, 552, 553, 554, 555, 556, 557, 558, 559,\n",
              "        560, 561, 562, 563, 564, 565, 566, 567, 568, 569, 570, 571, 572,\n",
              "        573, 574, 575, 576, 577, 578, 579, 580, 581, 582, 583, 584, 585,\n",
              "        586, 587, 588, 589, 590, 591, 592, 593, 594, 595, 596, 597, 598,\n",
              "        599, 600, 601, 602, 603, 604, 605, 606, 607, 608, 609, 610]))"
            ]
          },
          "metadata": {},
          "execution_count": 17
        }
      ]
    },
    {
      "cell_type": "code",
      "source": [
        "recommendation_model = RecommendationSystemModel(\n",
        "    num_users = len(le_users.classes_),\n",
        "    num_movies = len(le_movies.classes_),\n",
        "    embedding_size = 64,\n",
        "    hidden_dim = 128,\n",
        "    dropout_rate = 0.2\n",
        ").to(device)\n",
        "\n",
        "optimizer = torch.optim.Adam(params = recommendation_model.parameters(), lr = 0.001)\n",
        "loss_fn = nn.MSELoss()"
      ],
      "metadata": {
        "id": "_p2Id4fzIIfT"
      },
      "execution_count": null,
      "outputs": []
    },
    {
      "cell_type": "code",
      "source": [
        "for i, batch in enumerate(train_loader):\n",
        "    if i<5:\n",
        "        print(f'{i}:{batch}')"
      ],
      "metadata": {
        "id": "N44BFpECMAkw",
        "colab": {
          "base_uri": "https://localhost:8080/"
        },
        "outputId": "5b1538c4-381c-4ebb-f225-51358153398f"
      },
      "execution_count": null,
      "outputs": [
        {
          "output_type": "stream",
          "name": "stderr",
          "text": [
            "/usr/local/lib/python3.10/dist-packages/torch/utils/data/dataloader.py:558: UserWarning: This DataLoader will create 8 worker processes in total. Our suggested max number of worker in current system is 2, which is smaller than what this DataLoader is going to create. Please be aware that excessive worker creation might get DataLoader running slow or even freeze, lower the worker number to avoid potential slowness/freeze if necessary.\n",
            "  warnings.warn(_create_warning_msg(\n"
          ]
        },
        {
          "output_type": "stream",
          "name": "stdout",
          "text": [
            "0:{'users': tensor([303, 452, 296, 121, 452, 598, 273,  18, 379, 590, 427,   3,  83, 245,\n",
            "        579, 523, 135, 605, 310, 571, 508, 413, 473, 356, 473, 181, 598, 367,\n",
            "        131, 596, 273, 479]), 'movies': tensor([1978, 2427, 1136, 8287, 1182, 5282, 2439,  358, 1067, 2916, 3008, 2543,\n",
            "         470, 1235, 2353,  126,  197, 1294,  908, 1072, 6416, 3946, 1307, 5439,\n",
            "        3949,  833, 6142, 2309, 5324,  982, 4633,  307]), 'ratings': tensor([5.0000, 4.0000, 1.0000, 5.0000, 4.0000, 3.0000, 3.0000, 2.0000, 4.0000,\n",
            "        4.0000, 2.5000, 4.0000, 3.0000, 4.0000, 3.5000, 3.0000, 2.0000, 4.0000,\n",
            "        2.5000, 4.0000, 3.5000, 4.0000, 3.5000, 5.0000, 3.5000, 4.0000, 2.0000,\n",
            "        2.0000, 3.5000, 4.0000, 3.0000, 3.0000])}\n",
            "1:{'users': tensor([ 63, 216, 297, 451, 317, 571, 609, 287, 216, 379, 588, 483, 381,  94,\n",
            "        119, 482, 297, 287, 599,  94, 598, 209, 437,   5, 413,  18, 124, 181,\n",
            "        371, 598, 410, 134]), 'movies': tensor([2992, 1967,   92,  830, 6625, 1602,  694, 1813,  954, 5933,  156,  314,\n",
            "        3442, 1443,  609, 4141, 2037,  618, 1785,    6, 6647, 9415, 5227,  422,\n",
            "         199, 2536, 7073, 3010, 1130, 8823,  176,  620]), 'ratings': tensor([4.5000, 2.0000, 3.5000, 4.0000, 3.5000, 2.0000, 3.5000, 3.0000, 2.0000,\n",
            "        2.0000, 3.0000, 5.0000, 3.5000, 5.0000, 3.0000, 4.5000, 3.0000, 3.0000,\n",
            "        1.5000, 3.0000, 3.0000, 4.5000, 3.5000, 3.0000, 4.0000, 3.0000, 4.0000,\n",
            "        4.0000, 3.0000, 3.5000, 4.0000, 4.0000])}\n",
            "2:{'users': tensor([329, 598, 390, 554, 274, 447, 598, 270, 473, 589,  37, 420, 185, 289,\n",
            "        231, 437, 287, 181,  18, 355, 390,  41, 181,  49, 409, 287, 572, 473,\n",
            "        599, 595, 131, 216]), 'movies': tensor([ 835, 4839,   98, 2535, 2096, 7325, 5380, 1390, 1571, 7448,  140, 2585,\n",
            "        1566, 1110, 6612,  116, 1257, 4291, 1854,  463, 3894, 2284, 1670, 5608,\n",
            "         686, 1518,  325, 2589, 1548,   46, 1444, 1877]), 'ratings': tensor([4.0000, 2.5000, 5.0000, 4.0000, 5.0000, 1.0000, 2.5000, 2.5000, 3.5000,\n",
            "        4.0000, 4.0000, 3.5000, 3.0000, 4.0000, 2.5000, 4.0000, 2.0000, 2.5000,\n",
            "        3.0000, 4.0000, 5.0000, 4.0000, 4.0000, 4.0000, 5.0000, 2.0000, 3.0000,\n",
            "        3.5000, 3.0000, 3.5000, 4.0000, 2.0000])}\n",
            "3:{'users': tensor([306, 413, 211, 609, 598, 139, 181, 243, 294, 358,  99, 185, 176, 602,\n",
            "        607, 593,  71, 152, 524, 404, 413, 312, 291, 256, 428, 155, 181, 216,\n",
            "        306, 361, 264, 371]), 'movies': tensor([3923,  353, 9367, 7871,  177, 2476, 4191,  442, 2040,  838,   80,  592,\n",
            "         697,   15,    9,  166,  277, 3569, 7022, 2224, 3563,  311, 5156,  364,\n",
            "         376,  429, 1610,  983, 4277, 1644,  510,  989]), 'ratings': tensor([2.5000, 2.0000, 4.5000, 3.5000, 2.5000, 4.0000, 2.5000, 2.0000, 0.5000,\n",
            "        3.0000, 4.0000, 4.0000, 5.0000, 4.0000, 4.0000, 4.0000, 5.0000, 3.0000,\n",
            "        3.5000, 4.0000, 4.0000, 4.0000, 4.0000, 4.0000, 3.0000, 3.0000, 1.5000,\n",
            "        1.0000, 1.5000, 4.0000, 5.0000, 5.0000])}\n",
            "4:{'users': tensor([215, 379, 215, 379, 464, 121, 516, 386,  67, 105, 273, 112, 367, 364,\n",
            "        300, 301, 335, 511, 336, 419, 312, 407, 181, 101, 609, 273, 379, 199,\n",
            "        413, 429, 297, 322]), 'movies': tensor([ 704, 1484, 1959, 2438, 1483,    1,  933, 1636, 7346, 7448, 4519, 1744,\n",
            "        1808, 7197, 5363,  418, 1733,  418,  630, 4607, 1616, 8421, 1928,  376,\n",
            "        5687, 6702,  287, 5156,  128, 1793,  928,  832]), 'ratings': tensor([5.0000, 4.0000, 4.0000, 3.0000, 4.0000, 4.0000, 2.0000, 4.0000, 2.0000,\n",
            "        5.0000, 4.0000, 1.0000, 3.0000, 3.0000, 4.0000, 5.0000, 4.5000, 4.0000,\n",
            "        5.0000, 4.0000, 2.0000, 5.0000, 1.0000, 3.0000, 4.0000, 3.0000, 3.0000,\n",
            "        4.0000, 2.0000, 3.0000, 3.5000, 4.0000])}\n"
          ]
        }
      ]
    },
    {
      "cell_type": "code",
      "source": [
        "epochs = 5\n",
        "\n",
        "def log_progress(epoch, step, total_loss, log_progress_step, datasize, losses):\n",
        "    avg_loss = total_loss / log_progress_step\n",
        "    sys.stderr.write(f'\\r{epoch+1:02d}/{epochs:02d} | Step: {step}/{datasize} | Avg loss: {avg_loss:<6.9f}')\n",
        "    sys.stderr.flush()\n",
        "    losses.append(avg_loss)"
      ],
      "metadata": {
        "id": "lMgQNsFvfB9Y"
      },
      "execution_count": null,
      "outputs": []
    },
    {
      "cell_type": "code",
      "source": [
        "len(train_loader)"
      ],
      "metadata": {
        "colab": {
          "base_uri": "https://localhost:8080/"
        },
        "id": "EkxxSdVxi9-U",
        "outputId": "e5ef8294-06b7-453d-b2fa-925a22efcd0f"
      },
      "execution_count": null,
      "outputs": [
        {
          "output_type": "execute_result",
          "data": {
            "text/plain": [
              "2521"
            ]
          },
          "metadata": {},
          "execution_count": 21
        }
      ]
    },
    {
      "cell_type": "code",
      "source": [
        "total_loss = 0\n",
        "log_progress_step = 100\n",
        "datasize = len(train_dataset)\n",
        "losses = []\n",
        "print(f\"Training on {datasize} samples...\")\n",
        "\n",
        "for epoch in range(epochs):\n",
        "    step_count = 0\n",
        "    recommendation_model.train()\n",
        "    for i, train_data in enumerate(train_loader):\n",
        "        output = recommendation_model(train_data['users'].to(device), train_data['movies'].to(device))\n",
        "        output = output.squeeze()\n",
        "        ratings = train_data['ratings'].to(torch.float32).to(device).squeeze()\n",
        "\n",
        "        loss = loss_fn(output,ratings)\n",
        "        total_loss += loss\n",
        "        optimizer.zero_grad()\n",
        "        loss.backward()\n",
        "        optimizer.step()\n",
        "\n",
        "        step_count += len(train_data['users'])\n",
        "\n",
        "        if (step_count%log_progress_step == 0 or i == len(train_loader)-1):\n",
        "            log_progress(epoch, step_count, total_loss, log_progress_step, datasize, losses)\n",
        "            total_loss = 0\n",
        "\n"
      ],
      "metadata": {
        "id": "ZBqgCVwMWWcs",
        "colab": {
          "base_uri": "https://localhost:8080/"
        },
        "outputId": "d2fcb164-ae99-4a15-ec0f-f6f62e73b001"
      },
      "execution_count": null,
      "outputs": [
        {
          "output_type": "stream",
          "name": "stdout",
          "text": [
            "Training on 80668 samples...\n"
          ]
        },
        {
          "output_type": "stream",
          "name": "stderr",
          "text": [
            "05/05 | Step: 80668/80668 | Avg loss: 0.154053077"
          ]
        }
      ]
    },
    {
      "cell_type": "code",
      "source": [
        "plt.figure()\n",
        "plt.plot([loss.detach().numpy() for loss in losses])\n",
        "plt.xlabel('steps')\n",
        "plt.ylabel('loss')\n",
        "plt.show()"
      ],
      "metadata": {
        "id": "DCNyOZHZi_YX",
        "colab": {
          "base_uri": "https://localhost:8080/",
          "height": 449
        },
        "outputId": "e01b31e8-8218-4d07-9611-0852e23d4444"
      },
      "execution_count": null,
      "outputs": [
        {
          "output_type": "display_data",
          "data": {
            "text/plain": [
              "<Figure size 640x480 with 1 Axes>"
            ],
            "image/png": "[encoded data removed]"
          },
          "metadata": {}
        }
      ]
    },
    {
      "cell_type": "code",
      "source": [
        "from sklearn.metrics import mean_squared_error\n",
        "\n",
        "y_pred = []\n",
        "y_true = []\n",
        "\n",
        "recommendation_model.eval()\n",
        "\n",
        "with torch.no_grad():\n",
        "    for i, test_data in enumerate(test_loader):\n",
        "        output = recommendation_model(test_data['users'].to(device),test_data['movies'].to(device))\n",
        "        output = output.squeeze()\n",
        "        ratings = test_data['ratings'].to(device)\n",
        "\n",
        "        y_pred.extend(output.numpy())\n",
        "        y_true.extend(ratings.numpy())\n",
        "\n",
        "rms = mean_squared_error(y_true,y_pred, squared = False)\n",
        "print(f\"RMS: {rms:.4f}\")"
      ],
      "metadata": {
        "colab": {
          "base_uri": "https://localhost:8080/"
        },
        "id": "vnMnSvbjcgoO",
        "outputId": "64a0cc3a-2720-4a57-86d6-25ef2a9416c4"
      },
      "execution_count": null,
      "outputs": [
        {
          "output_type": "stream",
          "name": "stderr",
          "text": [
            "/usr/local/lib/python3.10/dist-packages/torch/utils/data/dataloader.py:558: UserWarning: This DataLoader will create 8 worker processes in total. Our suggested max number of worker in current system is 2, which is smaller than what this DataLoader is going to create. Please be aware that excessive worker creation might get DataLoader running slow or even freeze, lower the worker number to avoid potential slowness/freeze if necessary.\n",
            "  warnings.warn(_create_warning_msg(\n"
          ]
        },
        {
          "output_type": "stream",
          "name": "stdout",
          "text": [
            "RMS: 0.8939\n"
          ]
        }
      ]
    },
    {
      "cell_type": "code",
      "source": [
        "df_movies = pd.read_csv('/content/ml-latest-small/movies.csv')\n",
        "df_movies.head()"
      ],
      "metadata": {
        "colab": {
          "base_uri": "https://localhost:8080/",
          "height": 206
        },
        "id": "yNm7Sx1uhLUp",
        "outputId": "0db18f88-3226-4f8b-9401-a01fb36a2858"
      },
      "execution_count": null,
      "outputs": [
        {
          "output_type": "execute_result",
          "data": {
            "text/plain": [
              "   movieId                               title  \\\n",
              "0        1                    Toy Story (1995)   \n",
              "1        2                      Jumanji (1995)   \n",
              "2        3             Grumpier Old Men (1995)   \n",
              "3        4            Waiting to Exhale (1995)   \n",
              "4        5  Father of the Bride Part II (1995)   \n",
              "\n",
              "                                        genres  \n",
              "0  Adventure|Animation|Children|Comedy|Fantasy  \n",
              "1                   Adventure|Children|Fantasy  \n",
              "2                               Comedy|Romance  \n",
              "3                         Comedy|Drama|Romance  \n",
              "4                                       Comedy  "
            ],
            "text/html": [
              "\n",
              "  <div id=\"df-3df510ba-b7b6-4a1d-b4f1-8fcde46eab4c\" class=\"colab-df-container\">\n",
              "    <div>\n",
              "<style scoped>\n",
              "    .dataframe tbody tr th:only-of-type {\n",
              "        vertical-align: middle;\n",
              "    }\n",
              "\n",
              "    .dataframe tbody tr th {\n",
              "        vertical-align: top;\n",
              "    }\n",
              "\n",
              "    .dataframe thead th {\n",
              "        text-align: right;\n",
              "    }\n",
              "</style>\n",
              "<table border=\"1\" class=\"dataframe\">\n",
              "  <thead>\n",
              "    <tr style=\"text-align: right;\">\n",
              "      <th></th>\n",
              "      <th>movieId</th>\n",
              "      <th>title</th>\n",
              "      <th>genres</th>\n",
              "    </tr>\n",
              "  </thead>\n",
              "  <tbody>\n",
              "    <tr>\n",
              "      <th>0</th>\n",
              "      <td>1</td>\n",
              "      <td>Toy Story (1995)</td>\n",
              "      <td>Adventure|Animation|Children|Comedy|Fantasy</td>\n",
              "    </tr>\n",
              "    <tr>\n",
              "      <th>1</th>\n",
              "      <td>2</td>\n",
              "      <td>Jumanji (1995)</td>\n",
              "      <td>Adventure|Children|Fantasy</td>\n",
              "    </tr>\n",
              "    <tr>\n",
              "      <th>2</th>\n",
              "      <td>3</td>\n",
              "      <td>Grumpier Old Men (1995)</td>\n",
              "      <td>Comedy|Romance</td>\n",
              "    </tr>\n",
              "    <tr>\n",
              "      <th>3</th>\n",
              "      <td>4</td>\n",
              "      <td>Waiting to Exhale (1995)</td>\n",
              "      <td>Comedy|Drama|Romance</td>\n",
              "    </tr>\n",
              "    <tr>\n",
              "      <th>4</th>\n",
              "      <td>5</td>\n",
              "      <td>Father of the Bride Part II (1995)</td>\n",
              "      <td>Comedy</td>\n",
              "    </tr>\n",
              "  </tbody>\n",
              "</table>\n",
              "</div>\n",
              "    <div class=\"colab-df-buttons\">\n",
              "\n",
              "  <div class=\"colab-df-container\">\n",
              "    <button class=\"colab-df-convert\" onclick=\"convertToInteractive('df-3df510ba-b7b6-4a1d-b4f1-8fcde46eab4c')\"\n",
              "            title=\"Convert this dataframe to an interactive table.\"\n",
              "            style=\"display:none;\">\n",
              "\n",
              "  <svg xmlns=\"http://www.w3.org/2000/svg\" height=\"24px\" viewBox=\"0 -960 960 960\">\n",
              "    <path d=\"M120-120v-720h720v720H120Zm60-500h600v-160H180v160Zm220 220h160v-160H400v160Zm0 220h160v-160H400v160ZM180-400h160v-160H180v160Zm440 0h160v-160H620v160ZM180-180h160v-160H180v160Zm440 0h160v-160H620v160Z\"/>\n",
              "  </svg>\n",
              "    </button>\n",
              "\n",
              "  <style>\n",
              "    .colab-df-container {\n",
              "      display:flex;\n",
              "      gap: 12px;\n",
              "    }\n",
              "\n",
              "    .colab-df-convert {\n",
              "      background-color: #E8F0FE;\n",
              "      border: none;\n",
              "      border-radius: 50%;\n",
              "      cursor: pointer;\n",
              "      display: none;\n",
              "      fill: #1967D2;\n",
              "      height: 32px;\n",
              "      padding: 0 0 0 0;\n",
              "      width: 32px;\n",
              "    }\n",
              "\n",
              "    .colab-df-convert:hover {\n",
              "      background-color: #E2EBFA;\n",
              "      box-shadow: 0px 1px 2px rgba(60, 64, 67, 0.3), 0px 1px 3px 1px rgba(60, 64, 67, 0.15);\n",
              "      fill: #174EA6;\n",
              "    }\n",
              "\n",
              "    .colab-df-buttons div {\n",
              "      margin-bottom: 4px;\n",
              "    }\n",
              "\n",
              "    [theme=dark] .colab-df-convert {\n",
              "      background-color: #3B4455;\n",
              "      fill: #D2E3FC;\n",
              "    }\n",
              "\n",
              "    [theme=dark] .colab-df-convert:hover {\n",
              "      background-color: #434B5C;\n",
              "      box-shadow: 0px 1px 3px 1px rgba(0, 0, 0, 0.15);\n",
              "      filter: drop-shadow(0px 1px 2px rgba(0, 0, 0, 0.3));\n",
              "      fill: #FFFFFF;\n",
              "    }\n",
              "  </style>\n",
              "\n",
              "    <script>\n",
              "      const buttonEl =\n",
              "        document.querySelector('#df-3df510ba-b7b6-4a1d-b4f1-8fcde46eab4c button.colab-df-convert');\n",
              "      buttonEl.style.display =\n",
              "        google.colab.kernel.accessAllowed ? 'block' : 'none';\n",
              "\n",
              "      async function convertToInteractive(key) {\n",
              "        const element = document.querySelector('#df-3df510ba-b7b6-4a1d-b4f1-8fcde46eab4c');\n",
              "        const dataTable =\n",
              "          await google.colab.kernel.invokeFunction('convertToInteractive',\n",
              "                                                    [key], {});\n",
              "        if (!dataTable) return;\n",
              "\n",
              "        const docLinkHtml = 'Like what you see? Visit the ' +\n",
              "          '<a target=\"_blank\" href=https://colab.research.google.com/notebooks/data_table.ipynb>data table notebook</a>'\n",
              "          + ' to learn more about interactive tables.';\n",
              "        element.innerHTML = '';\n",
              "        dataTable['output_type'] = 'display_data';\n",
              "        await google.colab.output.renderOutput(dataTable, element);\n",
              "        const docLink = document.createElement('div');\n",
              "        docLink.innerHTML = docLinkHtml;\n",
              "        element.appendChild(docLink);\n",
              "      }\n",
              "    </script>\n",
              "  </div>\n",
              "\n",
              "\n",
              "<div id=\"df-49b34436-1783-4555-ad50-fdfe8469f791\">\n",
              "  <button class=\"colab-df-quickchart\" onclick=\"quickchart('df-49b34436-1783-4555-ad50-fdfe8469f791')\"\n",
              "            title=\"Suggest charts\"\n",
              "            style=\"display:none;\">\n",
              "\n",
              "<svg xmlns=\"http://www.w3.org/2000/svg\" height=\"24px\"viewBox=\"0 0 24 24\"\n",
              "     width=\"24px\">\n",
              "    <g>\n",
              "        <path d=\"M19 3H5c-1.1 0-2 .9-2 2v14c0 1.1.9 2 2 2h14c1.1 0 2-.9 2-2V5c0-1.1-.9-2-2-2zM9 17H7v-7h2v7zm4 0h-2V7h2v10zm4 0h-2v-4h2v4z\"/>\n",
              "    </g>\n",
              "</svg>\n",
              "  </button>\n",
              "\n",
              "<style>\n",
              "  .colab-df-quickchart {\n",
              "      --bg-color: #E8F0FE;\n",
              "      --fill-color: #1967D2;\n",
              "      --hover-bg-color: #E2EBFA;\n",
              "      --hover-fill-color: #174EA6;\n",
              "      --disabled-fill-color: #AAA;\n",
              "      --disabled-bg-color: #DDD;\n",
              "  }\n",
              "\n",
              "  [theme=dark] .colab-df-quickchart {\n",
              "      --bg-color: #3B4455;\n",
              "      --fill-color: #D2E3FC;\n",
              "      --hover-bg-color: #434B5C;\n",
              "      --hover-fill-color: #FFFFFF;\n",
              "      --disabled-bg-color: #3B4455;\n",
              "      --disabled-fill-color: #666;\n",
              "  }\n",
              "\n",
              "  .colab-df-quickchart {\n",
              "    background-color: var(--bg-color);\n",
              "    border: none;\n",
              "    border-radius: 50%;\n",
              "    cursor: pointer;\n",
              "    display: none;\n",
              "    fill: var(--fill-color);\n",
              "    height: 32px;\n",
              "    padding: 0;\n",
              "    width: 32px;\n",
              "  }\n",
              "\n",
              "  .colab-df-quickchart:hover {\n",
              "    background-color: var(--hover-bg-color);\n",
              "    box-shadow: 0 1px 2px rgba(60, 64, 67, 0.3), 0 1px 3px 1px rgba(60, 64, 67, 0.15);\n",
              "    fill: var(--button-hover-fill-color);\n",
              "  }\n",
              "\n",
              "  .colab-df-quickchart-complete:disabled,\n",
              "  .colab-df-quickchart-complete:disabled:hover {\n",
              "    background-color: var(--disabled-bg-color);\n",
              "    fill: var(--disabled-fill-color);\n",
              "    box-shadow: none;\n",
              "  }\n",
              "\n",
              "  .colab-df-spinner {\n",
              "    border: 2px solid var(--fill-color);\n",
              "    border-color: transparent;\n",
              "    border-bottom-color: var(--fill-color);\n",
              "    animation:\n",
              "      spin 1s steps(1) infinite;\n",
              "  }\n",
              "\n",
              "  @keyframes spin {\n",
              "    0% {\n",
              "      border-color: transparent;\n",
              "      border-bottom-color: var(--fill-color);\n",
              "      border-left-color: var(--fill-color);\n",
              "    }\n",
              "    20% {\n",
              "      border-color: transparent;\n",
              "      border-left-color: var(--fill-color);\n",
              "      border-top-color: var(--fill-color);\n",
              "    }\n",
              "    30% {\n",
              "      border-color: transparent;\n",
              "      border-left-color: var(--fill-color);\n",
              "      border-top-color: var(--fill-color);\n",
              "      border-right-color: var(--fill-color);\n",
              "    }\n",
              "    40% {\n",
              "      border-color: transparent;\n",
              "      border-right-color: var(--fill-color);\n",
              "      border-top-color: var(--fill-color);\n",
              "    }\n",
              "    60% {\n",
              "      border-color: transparent;\n",
              "      border-right-color: var(--fill-color);\n",
              "    }\n",
              "    80% {\n",
              "      border-color: transparent;\n",
              "      border-right-color: var(--fill-color);\n",
              "      border-bottom-color: var(--fill-color);\n",
              "    }\n",
              "    90% {\n",
              "      border-color: transparent;\n",
              "      border-bottom-color: var(--fill-color);\n",
              "    }\n",
              "  }\n",
              "</style>\n",
              "\n",
              "  <script>\n",
              "    async function quickchart(key) {\n",
              "      const quickchartButtonEl =\n",
              "        document.querySelector('#' + key + ' button');\n",
              "      quickchartButtonEl.disabled = true;  // To prevent multiple clicks.\n",
              "      quickchartButtonEl.classList.add('colab-df-spinner');\n",
              "      try {\n",
              "        const charts = await google.colab.kernel.invokeFunction(\n",
              "            'suggestCharts', [key], {});\n",
              "      } catch (error) {\n",
              "        console.error('Error during call to suggestCharts:', error);\n",
              "      }\n",
              "      quickchartButtonEl.classList.remove('colab-df-spinner');\n",
              "      quickchartButtonEl.classList.add('colab-df-quickchart-complete');\n",
              "    }\n",
              "    (() => {\n",
              "      let quickchartButtonEl =\n",
              "        document.querySelector('#df-49b34436-1783-4555-ad50-fdfe8469f791 button');\n",
              "      quickchartButtonEl.style.display =\n",
              "        google.colab.kernel.accessAllowed ? 'block' : 'none';\n",
              "    })();\n",
              "  </script>\n",
              "</div>\n",
              "\n",
              "    </div>\n",
              "  </div>\n"
            ],
            "application/vnd.google.colaboratory.intrinsic+json": {
              "type": "dataframe",
              "variable_name": "df_movies",
              "summary": "{\n  \"name\": \"df_movies\",\n  \"rows\": 9742,\n  \"fields\": [\n    {\n      \"column\": \"movieId\",\n      \"properties\": {\n        \"dtype\": \"number\",\n        \"std\": 52160,\n        \"min\": 1,\n        \"max\": 193609,\n        \"num_unique_values\": 9742,\n        \"samples\": [\n          45635,\n          1373,\n          7325\n        ],\n        \"semantic_type\": \"\",\n        \"description\": \"\"\n      }\n    },\n    {\n      \"column\": \"title\",\n      \"properties\": {\n        \"dtype\": \"string\",\n        \"num_unique_values\": 9737,\n        \"samples\": [\n          \"Teenage Mutant Ninja Turtles (2014)\",\n          \"America's Sweethearts (2001)\",\n          \"Cast Away (2000)\"\n        ],\n        \"semantic_type\": \"\",\n        \"description\": \"\"\n      }\n    },\n    {\n      \"column\": \"genres\",\n      \"properties\": {\n        \"dtype\": \"category\",\n        \"num_unique_values\": 951,\n        \"samples\": [\n          \"Crime|Mystery|Romance|Thriller\",\n          \"Action|Adventure|Comedy|Western\",\n          \"Crime|Drama|Musical\"\n        ],\n        \"semantic_type\": \"\",\n        \"description\": \"\"\n      }\n    }\n  ]\n}"
            }
          },
          "metadata": {},
          "execution_count": 25
        }
      ]
    },
    {
      "cell_type": "code",
      "source": [
        "all_movies = df['movieId'].unique().tolist()\n",
        "ran_user = 24\n",
        "seen_movies = set(df[df['userId']==ran_user]['movieId'].tolist())"
      ],
      "metadata": {
        "id": "tcQ_v7gNmfk1"
      },
      "execution_count": null,
      "outputs": []
    },
    {
      "cell_type": "code",
      "source": [
        "l = []\n",
        "l.extend(zip([1,2,3,4,5],['a','b','c','d','e']))\n",
        "l"
      ],
      "metadata": {
        "colab": {
          "base_uri": "https://localhost:8080/"
        },
        "id": "I0yqjuvGsKQ7",
        "outputId": "179d8f25-5168-4fe2-cf71-ef0cdef99c04"
      },
      "execution_count": null,
      "outputs": [
        {
          "output_type": "execute_result",
          "data": {
            "text/plain": [
              "[(1, 'a'), (2, 'b'), (3, 'c'), (4, 'd'), (5, 'e')]"
            ]
          },
          "metadata": {},
          "execution_count": 78
        }
      ]
    },
    {
      "source": [
        "def recommend_top_movies(recommendation_model, user_id, seen_movies, all_movies, batch_size = 100, k=5):\n",
        "    recommendation_model.eval()\n",
        "    unseen_movies = [m for m in all_movies if m not in seen_movies]\n",
        "    predictions = []\n",
        "\n",
        "    with torch.no_grad():\n",
        "        for i in range(0,len(unseen_movies),batch_size):\n",
        "            batch_unseen_movies = unseen_movies[i:i+batch_size]\n",
        "            user_tensor = torch.tensor([user_id]*len(batch_unseen_movies)).to(device)\n",
        "            movie_tensor = torch.tensor(batch_unseen_movies).to(device)\n",
        "            predicted_ratings = recommendation_model(user_tensor,movie_tensor).view(-1).tolist()\n",
        "            predictions.extend(zip(batch_unseen_movies, predicted_ratings))\n",
        "\n",
        "        predictions.sort(key= lambda x: x[1], reverse=True)\n",
        "        top_predictions = [movie_id for movie_id, i in predictions[:k]]\n",
        "        return top_predictions"
      ],
      "cell_type": "code",
      "metadata": {
        "id": "dC4aULn6v1Nf"
      },
      "execution_count": null,
      "outputs": []
    },
    {
      "cell_type": "code",
      "source": [
        "def get_movies_with_genres(movie_ids, df_movies):\n",
        "    movies_with_genres = df_movies[df_movies['movieId'].isin(movie_ids)].copy()\n",
        "    movies_with_genres['titles - genres'] = movies_with_genres[['title','genres']].agg(' - '.join, axis=1)\n",
        "    return movies_with_genres['titles - genres'].tolist()"
      ],
      "metadata": {
        "id": "EHtr8p-GrnP2"
      },
      "execution_count": null,
      "outputs": []
    },
    {
      "cell_type": "code",
      "source": [
        "recommendations = recommend_top_movies(recommendation_model, ran_user, seen_movies, all_movies)\n",
        "recommendations_with_genres = get_movies_with_genres(recommendations, df_movies)\n",
        "\n",
        "user_top_ten_seen_movies = df[df['userId'] == ran_user].sort_values(by=\"rating\", ascending=False).head(10)\n",
        "seen_movies_with_genres = get_movies_with_genres(user_top_ten_seen_movies['movieId'], df_movies)\n",
        "\n",
        "print(f\"Recommended movies:\\n\\n{recommendations_with_genres}\\n\\nbased on these movies the user has watched:\\n\\n{seen_movies_with_genres}\")"
      ],
      "metadata": {
        "colab": {
          "base_uri": "https://localhost:8080/"
        },
        "id": "qB6smn8_twOb",
        "outputId": "dce0b478-950f-4064-b644-47f0d38de5f6"
      },
      "execution_count": null,
      "outputs": [
        {
          "output_type": "stream",
          "name": "stdout",
          "text": [
            "Recommended movies:\n",
            "\n",
            "['It Happened One Night (1934) - Comedy|Romance', 'After Hours (1985) - Comedy|Thriller']\n",
            "\n",
            "based on these movies the user has watched:\n",
            "\n",
            "['Don Juan DeMarco (1995) - Comedy|Drama|Romance', 'Bubba Ho-tep (2002) - Comedy|Horror', 'Hannah and Her Sisters (1986) - Comedy|Drama|Romance', 'Battle Royale (Batoru rowaiaru) (2000) - Action|Drama|Horror|Thriller']\n"
          ]
        }
      ]
    },
    {
      "cell_type": "code",
      "source": [],
      "metadata": {
        "id": "FZcDeQfSutMx"
      },
      "execution_count": null,
      "outputs": []
    }
  ]
}